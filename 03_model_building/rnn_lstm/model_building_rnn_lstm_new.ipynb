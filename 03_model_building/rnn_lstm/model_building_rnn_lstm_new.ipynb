{
 "cells": [
  {
   "cell_type": "code",
   "execution_count": 1,
   "metadata": {},
   "outputs": [
    {
     "name": "stderr",
     "output_type": "stream",
     "text": [
      "/Users/kwklun/Library/Python/3.9/lib/python/site-packages/urllib3/__init__.py:35: NotOpenSSLWarning: urllib3 v2 only supports OpenSSL 1.1.1+, currently the 'ssl' module is compiled with 'LibreSSL 2.8.3'. See: https://github.com/urllib3/urllib3/issues/3020\n",
      "  warnings.warn(\n",
      "2025-05-02 04:44:38.311291: I metal_plugin/src/device/metal_device.cc:1154] Metal device set to: Apple M3 Max\n",
      "2025-05-02 04:44:38.311311: I metal_plugin/src/device/metal_device.cc:296] systemMemory: 48.00 GB\n",
      "2025-05-02 04:44:38.311315: I metal_plugin/src/device/metal_device.cc:313] maxCacheSize: 18.00 GB\n",
      "2025-05-02 04:44:38.311329: I tensorflow/core/common_runtime/pluggable_device/pluggable_device_factory.cc:305] Could not identify NUMA node of platform GPU ID 0, defaulting to 0. Your kernel may not have been built with NUMA support.\n",
      "2025-05-02 04:44:38.311339: I tensorflow/core/common_runtime/pluggable_device/pluggable_device_factory.cc:271] Created TensorFlow device (/job:localhost/replica:0/task:0/device:GPU:0 with 0 MB memory) -> physical PluggableDevice (device: 0, name: METAL, pci bus id: <undefined>)\n",
      "WARNING:absl:Compiled the loaded model, but the compiled metrics have yet to be built. `model.compile_metrics` will be empty until you train or evaluate the model.\n"
     ]
    },
    {
     "name": "stdout",
     "output_type": "stream",
     "text": [
      "Evaluating ABBV...\n"
     ]
    },
    {
     "name": "stderr",
     "output_type": "stream",
     "text": [
      "2025-05-02 04:44:38.609692: I tensorflow/core/grappler/optimizers/custom_graph_optimizer_registry.cc:117] Plugin optimizer for device_type GPU is enabled.\n",
      "WARNING:absl:Compiled the loaded model, but the compiled metrics have yet to be built. `model.compile_metrics` will be empty until you train or evaluate the model.\n"
     ]
    },
    {
     "name": "stdout",
     "output_type": "stream",
     "text": [
      "Built model for ABBV with input shape: (None, 60, 5)\n",
      "Model evaluated for ABBV, input shape: (None, 60, 5)\n"
     ]
    },
    {
     "name": "stderr",
     "output_type": "stream",
     "text": [
      "WARNING:absl:Compiled the loaded model, but the compiled metrics have yet to be built. `model.compile_metrics` will be empty until you train or evaluate the model.\n"
     ]
    },
    {
     "name": "stdout",
     "output_type": "stream",
     "text": [
      "Evaluating GOOGL...\n"
     ]
    },
    {
     "name": "stderr",
     "output_type": "stream",
     "text": [
      "WARNING:absl:Compiled the loaded model, but the compiled metrics have yet to be built. `model.compile_metrics` will be empty until you train or evaluate the model.\n"
     ]
    },
    {
     "name": "stdout",
     "output_type": "stream",
     "text": [
      "Built model for GOOGL with input shape: (None, 60, 5)\n",
      "Model evaluated for GOOGL, input shape: (None, 60, 5)\n"
     ]
    },
    {
     "name": "stderr",
     "output_type": "stream",
     "text": [
      "WARNING:absl:Compiled the loaded model, but the compiled metrics have yet to be built. `model.compile_metrics` will be empty until you train or evaluate the model.\n"
     ]
    },
    {
     "name": "stdout",
     "output_type": "stream",
     "text": [
      "Evaluating GOOG...\n"
     ]
    },
    {
     "name": "stderr",
     "output_type": "stream",
     "text": [
      "WARNING:absl:Compiled the loaded model, but the compiled metrics have yet to be built. `model.compile_metrics` will be empty until you train or evaluate the model.\n"
     ]
    },
    {
     "name": "stdout",
     "output_type": "stream",
     "text": [
      "Built model for GOOG with input shape: (None, 60, 5)\n",
      "Model evaluated for GOOG, input shape: (None, 60, 5)\n"
     ]
    },
    {
     "name": "stderr",
     "output_type": "stream",
     "text": [
      "WARNING:absl:Compiled the loaded model, but the compiled metrics have yet to be built. `model.compile_metrics` will be empty until you train or evaluate the model.\n"
     ]
    },
    {
     "name": "stdout",
     "output_type": "stream",
     "text": [
      "Evaluating AMZN...\n"
     ]
    },
    {
     "name": "stderr",
     "output_type": "stream",
     "text": [
      "WARNING:absl:Compiled the loaded model, but the compiled metrics have yet to be built. `model.compile_metrics` will be empty until you train or evaluate the model.\n"
     ]
    },
    {
     "name": "stdout",
     "output_type": "stream",
     "text": [
      "Built model for AMZN with input shape: (None, 60, 5)\n",
      "Model evaluated for AMZN, input shape: (None, 60, 5)\n"
     ]
    },
    {
     "name": "stderr",
     "output_type": "stream",
     "text": [
      "WARNING:absl:Compiled the loaded model, but the compiled metrics have yet to be built. `model.compile_metrics` will be empty until you train or evaluate the model.\n"
     ]
    },
    {
     "name": "stdout",
     "output_type": "stream",
     "text": [
      "Evaluating AAPL...\n"
     ]
    },
    {
     "name": "stderr",
     "output_type": "stream",
     "text": [
      "WARNING:absl:Compiled the loaded model, but the compiled metrics have yet to be built. `model.compile_metrics` will be empty until you train or evaluate the model.\n"
     ]
    },
    {
     "name": "stdout",
     "output_type": "stream",
     "text": [
      "Built model for AAPL with input shape: (None, 60, 5)\n",
      "Model evaluated for AAPL, input shape: (None, 60, 5)\n"
     ]
    },
    {
     "name": "stderr",
     "output_type": "stream",
     "text": [
      "WARNING:absl:Compiled the loaded model, but the compiled metrics have yet to be built. `model.compile_metrics` will be empty until you train or evaluate the model.\n"
     ]
    },
    {
     "name": "stdout",
     "output_type": "stream",
     "text": [
      "Evaluating BAC...\n"
     ]
    },
    {
     "name": "stderr",
     "output_type": "stream",
     "text": [
      "WARNING:absl:Compiled the loaded model, but the compiled metrics have yet to be built. `model.compile_metrics` will be empty until you train or evaluate the model.\n"
     ]
    },
    {
     "name": "stdout",
     "output_type": "stream",
     "text": [
      "Built model for BAC with input shape: (None, 60, 5)\n",
      "Model evaluated for BAC, input shape: (None, 60, 5)\n"
     ]
    },
    {
     "name": "stderr",
     "output_type": "stream",
     "text": [
      "WARNING:absl:Compiled the loaded model, but the compiled metrics have yet to be built. `model.compile_metrics` will be empty until you train or evaluate the model.\n"
     ]
    },
    {
     "name": "stdout",
     "output_type": "stream",
     "text": [
      "Evaluating BRK-B...\n"
     ]
    },
    {
     "name": "stderr",
     "output_type": "stream",
     "text": [
      "WARNING:absl:Compiled the loaded model, but the compiled metrics have yet to be built. `model.compile_metrics` will be empty until you train or evaluate the model.\n"
     ]
    },
    {
     "name": "stdout",
     "output_type": "stream",
     "text": [
      "Built model for BRK-B with input shape: (None, 60, 5)\n",
      "Model evaluated for BRK-B, input shape: (None, 60, 5)\n"
     ]
    },
    {
     "name": "stderr",
     "output_type": "stream",
     "text": [
      "WARNING:absl:Compiled the loaded model, but the compiled metrics have yet to be built. `model.compile_metrics` will be empty until you train or evaluate the model.\n"
     ]
    },
    {
     "name": "stdout",
     "output_type": "stream",
     "text": [
      "Evaluating AVGO...\n"
     ]
    },
    {
     "name": "stderr",
     "output_type": "stream",
     "text": [
      "WARNING:absl:Compiled the loaded model, but the compiled metrics have yet to be built. `model.compile_metrics` will be empty until you train or evaluate the model.\n"
     ]
    },
    {
     "name": "stdout",
     "output_type": "stream",
     "text": [
      "Built model for AVGO with input shape: (None, 60, 5)\n",
      "Model evaluated for AVGO, input shape: (None, 60, 5)\n"
     ]
    },
    {
     "name": "stderr",
     "output_type": "stream",
     "text": [
      "WARNING:absl:Compiled the loaded model, but the compiled metrics have yet to be built. `model.compile_metrics` will be empty until you train or evaluate the model.\n"
     ]
    },
    {
     "name": "stdout",
     "output_type": "stream",
     "text": [
      "Evaluating COST...\n"
     ]
    },
    {
     "name": "stderr",
     "output_type": "stream",
     "text": [
      "WARNING:absl:Compiled the loaded model, but the compiled metrics have yet to be built. `model.compile_metrics` will be empty until you train or evaluate the model.\n"
     ]
    },
    {
     "name": "stdout",
     "output_type": "stream",
     "text": [
      "Built model for COST with input shape: (None, 60, 5)\n",
      "Model evaluated for COST, input shape: (None, 60, 5)\n"
     ]
    },
    {
     "name": "stderr",
     "output_type": "stream",
     "text": [
      "WARNING:absl:Compiled the loaded model, but the compiled metrics have yet to be built. `model.compile_metrics` will be empty until you train or evaluate the model.\n"
     ]
    },
    {
     "name": "stdout",
     "output_type": "stream",
     "text": [
      "Evaluating XOM...\n"
     ]
    },
    {
     "name": "stderr",
     "output_type": "stream",
     "text": [
      "WARNING:absl:Compiled the loaded model, but the compiled metrics have yet to be built. `model.compile_metrics` will be empty until you train or evaluate the model.\n"
     ]
    },
    {
     "name": "stdout",
     "output_type": "stream",
     "text": [
      "Built model for XOM with input shape: (None, 60, 5)\n",
      "Model evaluated for XOM, input shape: (None, 60, 5)\n"
     ]
    },
    {
     "name": "stderr",
     "output_type": "stream",
     "text": [
      "WARNING:absl:Compiled the loaded model, but the compiled metrics have yet to be built. `model.compile_metrics` will be empty until you train or evaluate the model.\n"
     ]
    },
    {
     "name": "stdout",
     "output_type": "stream",
     "text": [
      "Evaluating HD...\n"
     ]
    },
    {
     "name": "stderr",
     "output_type": "stream",
     "text": [
      "WARNING:absl:Compiled the loaded model, but the compiled metrics have yet to be built. `model.compile_metrics` will be empty until you train or evaluate the model.\n"
     ]
    },
    {
     "name": "stdout",
     "output_type": "stream",
     "text": [
      "Built model for HD with input shape: (None, 60, 5)\n",
      "Model evaluated for HD, input shape: (None, 60, 5)\n"
     ]
    },
    {
     "name": "stderr",
     "output_type": "stream",
     "text": [
      "WARNING:absl:Compiled the loaded model, but the compiled metrics have yet to be built. `model.compile_metrics` will be empty until you train or evaluate the model.\n"
     ]
    },
    {
     "name": "stdout",
     "output_type": "stream",
     "text": [
      "Evaluating JNJ...\n"
     ]
    },
    {
     "name": "stderr",
     "output_type": "stream",
     "text": [
      "WARNING:absl:Compiled the loaded model, but the compiled metrics have yet to be built. `model.compile_metrics` will be empty until you train or evaluate the model.\n"
     ]
    },
    {
     "name": "stdout",
     "output_type": "stream",
     "text": [
      "Built model for JNJ with input shape: (None, 60, 5)\n",
      "Model evaluated for JNJ, input shape: (None, 60, 5)\n"
     ]
    },
    {
     "name": "stderr",
     "output_type": "stream",
     "text": [
      "WARNING:absl:Compiled the loaded model, but the compiled metrics have yet to be built. `model.compile_metrics` will be empty until you train or evaluate the model.\n"
     ]
    },
    {
     "name": "stdout",
     "output_type": "stream",
     "text": [
      "Evaluating JPM...\n"
     ]
    },
    {
     "name": "stderr",
     "output_type": "stream",
     "text": [
      "WARNING:absl:Compiled the loaded model, but the compiled metrics have yet to be built. `model.compile_metrics` will be empty until you train or evaluate the model.\n"
     ]
    },
    {
     "name": "stdout",
     "output_type": "stream",
     "text": [
      "Built model for JPM with input shape: (None, 60, 5)\n",
      "Model evaluated for JPM, input shape: (None, 60, 5)\n"
     ]
    },
    {
     "name": "stderr",
     "output_type": "stream",
     "text": [
      "WARNING:absl:Compiled the loaded model, but the compiled metrics have yet to be built. `model.compile_metrics` will be empty until you train or evaluate the model.\n"
     ]
    },
    {
     "name": "stdout",
     "output_type": "stream",
     "text": [
      "Evaluating LLY...\n"
     ]
    },
    {
     "name": "stderr",
     "output_type": "stream",
     "text": [
      "WARNING:absl:Compiled the loaded model, but the compiled metrics have yet to be built. `model.compile_metrics` will be empty until you train or evaluate the model.\n"
     ]
    },
    {
     "name": "stdout",
     "output_type": "stream",
     "text": [
      "Built model for LLY with input shape: (None, 60, 5)\n",
      "Model evaluated for LLY, input shape: (None, 60, 5)\n"
     ]
    },
    {
     "name": "stderr",
     "output_type": "stream",
     "text": [
      "WARNING:absl:Compiled the loaded model, but the compiled metrics have yet to be built. `model.compile_metrics` will be empty until you train or evaluate the model.\n"
     ]
    },
    {
     "name": "stdout",
     "output_type": "stream",
     "text": [
      "Evaluating MA...\n"
     ]
    },
    {
     "name": "stderr",
     "output_type": "stream",
     "text": [
      "WARNING:absl:Compiled the loaded model, but the compiled metrics have yet to be built. `model.compile_metrics` will be empty until you train or evaluate the model.\n"
     ]
    },
    {
     "name": "stdout",
     "output_type": "stream",
     "text": [
      "Built model for MA with input shape: (None, 60, 5)\n",
      "Model evaluated for MA, input shape: (None, 60, 5)\n"
     ]
    },
    {
     "name": "stderr",
     "output_type": "stream",
     "text": [
      "WARNING:absl:Compiled the loaded model, but the compiled metrics have yet to be built. `model.compile_metrics` will be empty until you train or evaluate the model.\n"
     ]
    },
    {
     "name": "stdout",
     "output_type": "stream",
     "text": [
      "Evaluating META...\n"
     ]
    },
    {
     "name": "stderr",
     "output_type": "stream",
     "text": [
      "WARNING:absl:Compiled the loaded model, but the compiled metrics have yet to be built. `model.compile_metrics` will be empty until you train or evaluate the model.\n"
     ]
    },
    {
     "name": "stdout",
     "output_type": "stream",
     "text": [
      "Built model for META with input shape: (None, 60, 5)\n",
      "Model evaluated for META, input shape: (None, 60, 5)\n"
     ]
    },
    {
     "name": "stderr",
     "output_type": "stream",
     "text": [
      "WARNING:absl:Compiled the loaded model, but the compiled metrics have yet to be built. `model.compile_metrics` will be empty until you train or evaluate the model.\n"
     ]
    },
    {
     "name": "stdout",
     "output_type": "stream",
     "text": [
      "Evaluating MSFT...\n"
     ]
    },
    {
     "name": "stderr",
     "output_type": "stream",
     "text": [
      "WARNING:absl:Compiled the loaded model, but the compiled metrics have yet to be built. `model.compile_metrics` will be empty until you train or evaluate the model.\n"
     ]
    },
    {
     "name": "stdout",
     "output_type": "stream",
     "text": [
      "Built model for MSFT with input shape: (None, 60, 5)\n",
      "Model evaluated for MSFT, input shape: (None, 60, 5)\n"
     ]
    },
    {
     "name": "stderr",
     "output_type": "stream",
     "text": [
      "WARNING:absl:Compiled the loaded model, but the compiled metrics have yet to be built. `model.compile_metrics` will be empty until you train or evaluate the model.\n"
     ]
    },
    {
     "name": "stdout",
     "output_type": "stream",
     "text": [
      "Evaluating NFLX...\n"
     ]
    },
    {
     "name": "stderr",
     "output_type": "stream",
     "text": [
      "WARNING:absl:Compiled the loaded model, but the compiled metrics have yet to be built. `model.compile_metrics` will be empty until you train or evaluate the model.\n"
     ]
    },
    {
     "name": "stdout",
     "output_type": "stream",
     "text": [
      "Built model for NFLX with input shape: (None, 60, 5)\n",
      "Model evaluated for NFLX, input shape: (None, 60, 5)\n"
     ]
    },
    {
     "name": "stderr",
     "output_type": "stream",
     "text": [
      "WARNING:absl:Compiled the loaded model, but the compiled metrics have yet to be built. `model.compile_metrics` will be empty until you train or evaluate the model.\n"
     ]
    },
    {
     "name": "stdout",
     "output_type": "stream",
     "text": [
      "Evaluating NVDA...\n"
     ]
    },
    {
     "name": "stderr",
     "output_type": "stream",
     "text": [
      "WARNING:absl:Compiled the loaded model, but the compiled metrics have yet to be built. `model.compile_metrics` will be empty until you train or evaluate the model.\n"
     ]
    },
    {
     "name": "stdout",
     "output_type": "stream",
     "text": [
      "Built model for NVDA with input shape: (None, 60, 5)\n",
      "Model evaluated for NVDA, input shape: (None, 60, 5)\n"
     ]
    },
    {
     "name": "stderr",
     "output_type": "stream",
     "text": [
      "WARNING:absl:Compiled the loaded model, but the compiled metrics have yet to be built. `model.compile_metrics` will be empty until you train or evaluate the model.\n"
     ]
    },
    {
     "name": "stdout",
     "output_type": "stream",
     "text": [
      "Evaluating ORCL...\n"
     ]
    },
    {
     "name": "stderr",
     "output_type": "stream",
     "text": [
      "WARNING:absl:Compiled the loaded model, but the compiled metrics have yet to be built. `model.compile_metrics` will be empty until you train or evaluate the model.\n"
     ]
    },
    {
     "name": "stdout",
     "output_type": "stream",
     "text": [
      "Built model for ORCL with input shape: (None, 60, 5)\n",
      "Model evaluated for ORCL, input shape: (None, 60, 5)\n"
     ]
    },
    {
     "name": "stderr",
     "output_type": "stream",
     "text": [
      "WARNING:absl:Compiled the loaded model, but the compiled metrics have yet to be built. `model.compile_metrics` will be empty until you train or evaluate the model.\n"
     ]
    },
    {
     "name": "stdout",
     "output_type": "stream",
     "text": [
      "Evaluating PG...\n"
     ]
    },
    {
     "name": "stderr",
     "output_type": "stream",
     "text": [
      "WARNING:absl:Compiled the loaded model, but the compiled metrics have yet to be built. `model.compile_metrics` will be empty until you train or evaluate the model.\n"
     ]
    },
    {
     "name": "stdout",
     "output_type": "stream",
     "text": [
      "Built model for PG with input shape: (None, 60, 5)\n",
      "Model evaluated for PG, input shape: (None, 60, 5)\n"
     ]
    },
    {
     "name": "stderr",
     "output_type": "stream",
     "text": [
      "WARNING:absl:Compiled the loaded model, but the compiled metrics have yet to be built. `model.compile_metrics` will be empty until you train or evaluate the model.\n"
     ]
    },
    {
     "name": "stdout",
     "output_type": "stream",
     "text": [
      "Evaluating TSLA...\n"
     ]
    },
    {
     "name": "stderr",
     "output_type": "stream",
     "text": [
      "WARNING:absl:Compiled the loaded model, but the compiled metrics have yet to be built. `model.compile_metrics` will be empty until you train or evaluate the model.\n"
     ]
    },
    {
     "name": "stdout",
     "output_type": "stream",
     "text": [
      "Built model for TSLA with input shape: (None, 60, 5)\n",
      "Model evaluated for TSLA, input shape: (None, 60, 5)\n"
     ]
    },
    {
     "name": "stderr",
     "output_type": "stream",
     "text": [
      "WARNING:absl:Compiled the loaded model, but the compiled metrics have yet to be built. `model.compile_metrics` will be empty until you train or evaluate the model.\n"
     ]
    },
    {
     "name": "stdout",
     "output_type": "stream",
     "text": [
      "Evaluating UNH...\n"
     ]
    },
    {
     "name": "stderr",
     "output_type": "stream",
     "text": [
      "WARNING:absl:Compiled the loaded model, but the compiled metrics have yet to be built. `model.compile_metrics` will be empty until you train or evaluate the model.\n"
     ]
    },
    {
     "name": "stdout",
     "output_type": "stream",
     "text": [
      "Built model for UNH with input shape: (None, 60, 5)\n",
      "Model evaluated for UNH, input shape: (None, 60, 5)\n"
     ]
    },
    {
     "name": "stderr",
     "output_type": "stream",
     "text": [
      "WARNING:absl:Compiled the loaded model, but the compiled metrics have yet to be built. `model.compile_metrics` will be empty until you train or evaluate the model.\n"
     ]
    },
    {
     "name": "stdout",
     "output_type": "stream",
     "text": [
      "Evaluating V...\n"
     ]
    },
    {
     "name": "stderr",
     "output_type": "stream",
     "text": [
      "WARNING:absl:Compiled the loaded model, but the compiled metrics have yet to be built. `model.compile_metrics` will be empty until you train or evaluate the model.\n"
     ]
    },
    {
     "name": "stdout",
     "output_type": "stream",
     "text": [
      "Built model for V with input shape: (None, 60, 5)\n",
      "Model evaluated for V, input shape: (None, 60, 5)\n"
     ]
    },
    {
     "name": "stderr",
     "output_type": "stream",
     "text": [
      "WARNING:absl:Compiled the loaded model, but the compiled metrics have yet to be built. `model.compile_metrics` will be empty until you train or evaluate the model.\n"
     ]
    },
    {
     "name": "stdout",
     "output_type": "stream",
     "text": [
      "Evaluating WMT...\n"
     ]
    },
    {
     "name": "stderr",
     "output_type": "stream",
     "text": [
      "WARNING:absl:Compiled the loaded model, but the compiled metrics have yet to be built. `model.compile_metrics` will be empty until you train or evaluate the model.\n"
     ]
    },
    {
     "name": "stdout",
     "output_type": "stream",
     "text": [
      "Built model for WMT with input shape: (None, 60, 5)\n",
      "Model evaluated for WMT, input shape: (None, 60, 5)\n",
      "Evaluation Results:\n",
      "    Stock           MSE        RMSE        MAE        R2\n",
      "0    ABBV     14.969746    3.869076   2.834885  0.967233\n",
      "1   GOOGL     24.130472    4.912278   3.678896  0.967547\n",
      "2    GOOG    265.232886   16.285972  14.652526  0.650809\n",
      "3    AMZN    633.073856   25.160959  22.100684  0.523061\n",
      "4    AAPL    716.394607   26.765549  17.178600  0.837244\n",
      "5     BAC      0.948593    0.973957   0.796138  0.989163\n",
      "6   BRK-B    171.352905   13.090184   9.359313  0.975302\n",
      "7    AVGO    118.186201   10.871348   6.293096  0.960161\n",
      "8    COST   4922.394531   70.159779  43.457655  0.903523\n",
      "9     XOM     95.748739    9.785128   5.155087  0.801611\n",
      "10     HD   1701.470078   41.248880  32.403153  0.773679\n",
      "11    JNJ   2907.209483   53.918545  45.303745 -1.437958\n",
      "12    JPM    193.034295   13.893678   9.645972  0.912996\n",
      "13    LLY  13893.837713  117.872124  55.618070  0.760966\n",
      "14     MA   1283.582436   35.827119  32.234495  0.722795\n",
      "15   META    247.709415   15.738787  11.498966  0.991680\n",
      "16   MSFT   2770.766842   52.638074  40.229817  0.788354\n",
      "17   NFLX    671.605179   25.915346  16.564107  0.980716\n",
      "18   NVDA    249.223229   15.786806   7.861299  0.853519\n",
      "19   ORCL     20.559002    4.534204   2.397155  0.984491\n",
      "20     PG   1765.714371   42.020404  30.015692 -0.223745\n",
      "21   TSLA    667.634403   25.838622  23.065587  0.842264\n",
      "22    UNH   5170.997461   71.909648  55.815011  0.712144\n",
      "23      V    382.737418   19.563676  18.197959  0.769160\n",
      "24    WMT     69.393679    8.330287   4.783397  0.771898\n"
     ]
    }
   ],
   "source": [
    "import pandas as pd\n",
    "import numpy as np\n",
    "import os\n",
    "import joblib\n",
    "from tensorflow.keras.models import load_model\n",
    "import tensorflow as tf\n",
    "import matplotlib.pyplot as plt\n",
    "from sklearn.preprocessing import MinMaxScaler\n",
    "from sklearn.metrics import mean_squared_error, mean_absolute_error, r2_score\n",
    "from contextlib import redirect_stdout\n",
    "import io\n",
    "\n",
    "# Configuration (same as training)\n",
    "CONFIG = {\n",
    "    'input_csv': '../../data/daily_stock_price/filtered_top25sp_stocks.csv',\n",
    "    'models_folder': 'stock_models',\n",
    "    'output_csv': 'evaluation_results.csv',\n",
    "    'saliency_folder': 'lstm_saliency_outputs',\n",
    "    'features': ['open', 'high', 'low', 'close', 'volume'],\n",
    "    'target': 'close',\n",
    "    'sequence_length': 60,\n",
    "    'train_split': 0.8,\n",
    "    'random_seed': 42,\n",
    "    'lstm_epochs': 50,\n",
    "    'batch_size': 32,\n",
    "    'validation_split': 0.1\n",
    "}\n",
    "\n",
    "output_csv_path = os.path.join(CONFIG['models_folder'], CONFIG['output_csv'])\n",
    "\n",
    "def create_sequences(data, seq_length):\n",
    "    X, y = [], []\n",
    "    for i in range(len(data) - seq_length):\n",
    "        X.append(data[i:i + seq_length])\n",
    "        y.append(data[i + seq_length, CONFIG['features'].index(CONFIG['target'])])\n",
    "    return np.array(X), np.array(y)\n",
    "\n",
    "def compute_saliency_and_hidden(stock):\n",
    "    model_path = os.path.join(CONFIG['models_folder'], f\"{stock}_lstm_model.h5\")\n",
    "    scaler_path = os.path.join(CONFIG['models_folder'], f\"{stock}_scaler.pkl\")\n",
    "    if not os.path.exists(model_path) or not os.path.exists(scaler_path):\n",
    "        print(f\"Model or scaler not found for {stock}\")\n",
    "        return None, None\n",
    "\n",
    "    # Load model and scaler\n",
    "    model = load_model(model_path, custom_objects={'mse': tf.keras.losses.MeanSquaredError()})\n",
    "    model.compile(optimizer='adam', loss='mse', metrics=['mae'])  # Match training compilation\n",
    "    scaler = joblib.load(scaler_path)\n",
    "\n",
    "    # Prepare input data\n",
    "    df = pd.read_csv(CONFIG['input_csv'])\n",
    "    stock_data = df[df['symbol'] == stock][CONFIG['features']].values\n",
    "    scaled_data = scaler.transform(stock_data)\n",
    "    X, y = create_sequences(scaled_data, CONFIG['sequence_length'])\n",
    "    train_size = int(len(X) * CONFIG['train_split'])\n",
    "    X_test = X[train_size:]\n",
    "\n",
    "    # Prepare input tensor\n",
    "    X_tensor = tf.convert_to_tensor(X_test, dtype=tf.float32)\n",
    "    X_tensor = tf.Variable(X_tensor)\n",
    "\n",
    "    # Initialize model: Build and evaluate\n",
    "    try:\n",
    "        input_shape = (None, CONFIG['sequence_length'], len(CONFIG['features']))\n",
    "        model.build(input_shape)\n",
    "        print(f\"Built model for {stock} with input shape: {input_shape}\")\n",
    "        model.predict(X_tensor[:1], verbose=0)  # Single batch prediction\n",
    "        print(f\"Model evaluated for {stock}, input shape: {model.input_shape}\")\n",
    "    except Exception as e:\n",
    "        print(f\"Failed to initialize model for {stock}: {e}\")\n",
    "        return None, None\n",
    "\n",
    "    # Compute saliency\n",
    "    with tf.GradientTape() as tape:\n",
    "        tape.watch(X_tensor)\n",
    "        preds = model(X_tensor)\n",
    "    grads = tape.gradient(preds, X_tensor).numpy()\n",
    "    saliency = np.abs(grads).mean(axis=(0, 1))\n",
    "    saliency_df = pd.DataFrame([saliency], columns=CONFIG['features'])\n",
    "    saliency_df['Stock'] = stock\n",
    "\n",
    "    # Visualize saliency\n",
    "    plt.figure(figsize=(10, 6))\n",
    "    saliency_df.drop(columns='Stock').iloc[0].sort_values(ascending=False).plot(kind='barh')\n",
    "    plt.title(f\"Saliency for {stock}\")\n",
    "    plt.xlabel(\"Saliency Value\")\n",
    "    plt.ylabel(\"Features\")\n",
    "    plt.tight_layout()\n",
    "    plt.savefig(os.path.join(CONFIG['saliency_folder'], f\"{stock}_saliency_plot.png\"))\n",
    "    plt.close()\n",
    "\n",
    "    # Skip hidden activations to avoid errors\n",
    "    hidden_df = None\n",
    "    \"\"\"\n",
    "    try:\n",
    "        summary_io = io.StringIO()\n",
    "        with redirect_stdout(summary_io):\n",
    "            model.summary()\n",
    "        print(f\"Model summary for {stock}:\\n{summary_io.getvalue()}\")\n",
    "\n",
    "        intermediate_layer_model = tf.keras.Model(\n",
    "            inputs=model.input,\n",
    "            outputs=[\n",
    "                model.get_layer(\"lstm_1\").output,\n",
    "                model.get_layer(\"lstm_2\").output\n",
    "            ]\n",
    "        )\n",
    "        lstm_outputs = intermediate_layer_model.predict(X_tensor, verbose=0)\n",
    "        lstm1_activations = np.mean(lstm_outputs[0], axis=(0, 1))\n",
    "        lstm2_activations = np.mean(lstm_outputs[1], axis=0)\n",
    "\n",
    "        hidden_df = pd.DataFrame({\n",
    "            \"lstm1_neuron\": lstm1_activations,\n",
    "            \"lstm2_neuron\": lstm2_activations\n",
    "        })\n",
    "        hidden_df['Stock'] = stock\n",
    "        hidden_df.to_csv(os.path.join(CONFIG['saliency_folder'], f\"{stock}_hidden_activations.csv\"), index=False)\n",
    "    except Exception as e:\n",
    "        print(f\"Failed to extract hidden activations for {stock}: {e}\")\n",
    "        print(f\"Model architecture on error for {stock}:\\n{summary_io.getvalue()}\")\n",
    "    \"\"\"\n",
    "\n",
    "    return saliency_df, hidden_df\n",
    "\n",
    "def evaluate_only():\n",
    "    df = pd.read_csv(CONFIG['input_csv'])\n",
    "    stocks = df['symbol'].unique()\n",
    "    results = []\n",
    "    saliency_all = []\n",
    "    hidden_all = []\n",
    "\n",
    "    for stock in stocks:\n",
    "        print(f\"Evaluating {stock}...\")\n",
    "        model_path = os.path.join(CONFIG['models_folder'], f\"{stock}_lstm_model.h5\")\n",
    "        scaler_path = os.path.join(CONFIG['models_folder'], f\"{stock}_scaler.pkl\")\n",
    "        if not os.path.exists(model_path) or not os.path.exists(scaler_path):\n",
    "            print(f\"Skipping {stock}: Model or scaler not found\")\n",
    "            continue\n",
    "\n",
    "        try:\n",
    "            model = load_model(model_path, custom_objects={'mse': tf.keras.losses.MeanSquaredError()})\n",
    "            model.compile(optimizer='adam', loss='mse', metrics=['mae'])\n",
    "            scaler = joblib.load(scaler_path)\n",
    "        except Exception as e:\n",
    "            print(f\"Error loading model/scaler for {stock}: {e}\")\n",
    "            continue\n",
    "\n",
    "        stock_data = df[df['symbol'] == stock][CONFIG['features']].values\n",
    "        scaled_data = scaler.transform(stock_data)\n",
    "        X, y = create_sequences(scaled_data, CONFIG['sequence_length'])\n",
    "        train_size = int(len(X) * CONFIG['train_split'])\n",
    "        X_test, y_test = X[train_size:], y[train_size:]\n",
    "        y_pred_scaled = model.predict(X_test, verbose=0)\n",
    "\n",
    "        y_test_full = np.zeros((len(y_test), len(CONFIG['features'])))\n",
    "        y_pred_full = np.zeros((len(y_pred_scaled), len(CONFIG['features'])))\n",
    "        idx = CONFIG['features'].index(CONFIG['target'])\n",
    "        y_test_full[:, idx] = y_test\n",
    "        y_pred_full[:, idx] = y_pred_scaled.flatten()\n",
    "        y_test_inv = scaler.inverse_transform(y_test_full)[:, idx]\n",
    "        y_pred_inv = scaler.inverse_transform(y_pred_full)[:, idx]\n",
    "\n",
    "        results.append({\n",
    "            'Stock': stock,\n",
    "            'MSE': mean_squared_error(y_test_inv, y_pred_inv),\n",
    "            'RMSE': np.sqrt(mean_squared_error(y_test_inv, y_pred_inv)),\n",
    "            'MAE': mean_absolute_error(y_test_inv, y_pred_inv),\n",
    "            'R2': r2_score(y_test_inv, y_pred_inv)\n",
    "        })\n",
    "\n",
    "        saliency_df, hidden_df = compute_saliency_and_hidden(stock)\n",
    "        if saliency_df is not None:\n",
    "            saliency_all.append(saliency_df)\n",
    "        if hidden_df is not None:\n",
    "            hidden_all.append(hidden_df)\n",
    "\n",
    "    results_df = pd.DataFrame(results)\n",
    "    results_df.to_csv(output_csv_path, index=False)\n",
    "    print(\"Evaluation Results:\")\n",
    "    print(results_df)\n",
    "\n",
    "    if saliency_all:\n",
    "        all_saliency = pd.concat(saliency_all, ignore_index=True)\n",
    "        all_saliency.to_csv(os.path.join(CONFIG['saliency_folder'], 'all_saliency.csv'), index=False)\n",
    "\n",
    "        mean_saliency = all_saliency.drop(columns='Stock').mean().sort_values(ascending=False)\n",
    "        mean_saliency_df = mean_saliency.to_frame(name='Mean Saliency')\n",
    "        mean_saliency_df.to_csv(os.path.join(CONFIG['saliency_folder'], 'model_saliency_average.csv'))\n",
    "\n",
    "        plt.figure(figsize=(10, 6))\n",
    "        mean_saliency.plot(kind='barh')\n",
    "        plt.title(\"Mean Saliency Across All Stocks\")\n",
    "        plt.xlabel(\"Mean Saliency\")\n",
    "        plt.ylabel(\"Features\")\n",
    "        plt.tight_layout()\n",
    "        plt.savefig(os.path.join(CONFIG['saliency_folder'], 'combined_saliency_plot.png'))\n",
    "        plt.close()\n",
    "\n",
    "    if hidden_all:\n",
    "        all_hidden = pd.concat(hidden_all, ignore_index=True)\n",
    "        all_hidden.to_csv(os.path.join(CONFIG['saliency_folder'], 'hidden_activation_summary.csv'), index=False)\n",
    "\n",
    "    return results_df, all_saliency if saliency_all else None, all_hidden if hidden_all else None\n",
    "\n",
    "if __name__ == \"__main__\":\n",
    "    results_df, all_saliency, all_hidden = evaluate_only()"
   ]
  }
 ],
 "metadata": {
  "kernelspec": {
   "display_name": "Python 3",
   "language": "python",
   "name": "python3"
  },
  "language_info": {
   "codemirror_mode": {
    "name": "ipython",
    "version": 3
   },
   "file_extension": ".py",
   "mimetype": "text/x-python",
   "name": "python",
   "nbconvert_exporter": "python",
   "pygments_lexer": "ipython3",
   "version": "3.9.6"
  }
 },
 "nbformat": 4,
 "nbformat_minor": 2
}
